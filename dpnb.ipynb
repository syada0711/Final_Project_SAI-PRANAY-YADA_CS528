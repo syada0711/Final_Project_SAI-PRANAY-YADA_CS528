{
 "cells": [
  {
   "cell_type": "code",
   "execution_count": 6,
   "metadata": {},
   "outputs": [
    {
     "name": "stdout",
     "output_type": "stream",
     "text": [
      "Accuracy with DP %: 83.07\n",
      "Classification Report with DP:\n",
      "              precision    recall  f1-score   support\n",
      "\n",
      "           0       0.85      0.83      0.84      7243\n",
      "           1       0.81      0.83      0.82      6199\n",
      "\n",
      "    accuracy                           0.83     13442\n",
      "   macro avg       0.83      0.83      0.83     13442\n",
      "weighted avg       0.83      0.83      0.83     13442\n",
      "\n",
      "Confusion Matrix with DP:\n",
      "[[6012 1231]\n",
      " [1045 5154]]\n"
     ]
    },
    {
     "name": "stderr",
     "output_type": "stream",
     "text": [
      "C:\\Users\\yadap\\AppData\\Local\\Temp\\ipykernel_8304\\2780375532.py:18: SettingWithCopyWarning: \n",
      "A value is trying to be set on a copy of a slice from a DataFrame.\n",
      "Try using .loc[row_indexer,col_indexer] = value instead\n",
      "\n",
      "See the caveats in the documentation: https://pandas.pydata.org/pandas-docs/stable/user_guide/indexing.html#returning-a-view-versus-a-copy\n",
      "  X[column] = le.fit_transform(X[column])\n",
      "c:\\Users\\yadap\\AppData\\Local\\Programs\\Python\\Python310\\lib\\site-packages\\diffprivlib\\models\\naive_bayes.py:107: PrivacyLeakWarning: Bounds have not been specified and will be calculated on the data provided. This will result in additional privacy leakage. To ensure differential privacy and no additional privacy leakage, specify bounds for each dimension.\n",
      "  warnings.warn(\"Bounds have not been specified and will be calculated on the data provided. This will \"\n"
     ]
    }
   ],
   "source": [
    "import pandas as pd\n",
    "from diffprivlib.models import GaussianNB\n",
    "from sklearn.model_selection import train_test_split\n",
    "from sklearn.preprocessing import LabelEncoder\n",
    "from sklearn.metrics import accuracy_score, classification_report, confusion_matrix\n",
    "\n",
    "# Load your dataset\n",
    "df = pd.read_csv(\"C:/Users/yadap/Desktop/DPS/Project/dataset.csv\")\n",
    "\n",
    "# Define the features and target\n",
    "X = df[[\"Id\", \"Income\", 'Age', 'Experience', 'Married/Single', 'House_Ownership', 'Car_Ownership', 'Profession', 'State', 'Current_Job_Years', 'Current_House_Years']]\n",
    "y = df['Risk_Flag']\n",
    "\n",
    "# Encode categorical features\n",
    "label_encoders = {}\n",
    "for column in ['Married/Single', 'House_Ownership', 'Car_Ownership', 'Profession', 'State']:\n",
    "    le = LabelEncoder()\n",
    "    X[column] = le.fit_transform(X[column])\n",
    "    label_encoders[column] = le\n",
    "\n",
    "# Split the data into training and testing sets\n",
    "X_train, X_test, y_train, y_test = train_test_split(X, y, test_size=0.2, random_state=42)\n",
    "\n",
    "# Create and train the differentially private Naive Bayes model\n",
    "epsilon = 0.5\n",
    "nb_model_dp = GaussianNB(epsilon=epsilon)\n",
    "nb_model_dp.fit(X_train, y_train)\n",
    "\n",
    "# Make predictions\n",
    "y_pred_dp = nb_model_dp.predict(X_test)\n",
    "\n",
    "# Evaluate the model\n",
    "accuracy_dp = accuracy_score(y_test, y_pred_dp)\n",
    "classification_rep_dp = classification_report(y_test, y_pred_dp)\n",
    "confusion_mat_dp = confusion_matrix(y_test, y_pred_dp)\n",
    "\n",
    "print(f'Accuracy with DP %: {round(100 * accuracy_dp, 2)}')\n",
    "print('Classification Report with DP:')\n",
    "print(classification_rep_dp)\n",
    "print('Confusion Matrix with DP:')\n",
    "print(confusion_mat_dp)\n"
   ]
  },
  {
   "cell_type": "code",
   "execution_count": 17,
   "metadata": {},
   "outputs": [
    {
     "name": "stderr",
     "output_type": "stream",
     "text": [
      "c:\\Users\\yadap\\AppData\\Local\\Programs\\Python\\Python310\\lib\\site-packages\\diffprivlib\\models\\naive_bayes.py:107: PrivacyLeakWarning: Bounds have not been specified and will be calculated on the data provided. This will result in additional privacy leakage. To ensure differential privacy and no additional privacy leakage, specify bounds for each dimension.\n",
      "  warnings.warn(\"Bounds have not been specified and will be calculated on the data provided. This will \"\n",
      "c:\\Users\\yadap\\AppData\\Local\\Programs\\Python\\Python310\\lib\\site-packages\\diffprivlib\\models\\naive_bayes.py:107: PrivacyLeakWarning: Bounds have not been specified and will be calculated on the data provided. This will result in additional privacy leakage. To ensure differential privacy and no additional privacy leakage, specify bounds for each dimension.\n",
      "  warnings.warn(\"Bounds have not been specified and will be calculated on the data provided. This will \"\n",
      "c:\\Users\\yadap\\AppData\\Local\\Programs\\Python\\Python310\\lib\\site-packages\\diffprivlib\\models\\naive_bayes.py:107: PrivacyLeakWarning: Bounds have not been specified and will be calculated on the data provided. This will result in additional privacy leakage. To ensure differential privacy and no additional privacy leakage, specify bounds for each dimension.\n",
      "  warnings.warn(\"Bounds have not been specified and will be calculated on the data provided. This will \"\n",
      "c:\\Users\\yadap\\AppData\\Local\\Programs\\Python\\Python310\\lib\\site-packages\\diffprivlib\\models\\naive_bayes.py:107: PrivacyLeakWarning: Bounds have not been specified and will be calculated on the data provided. This will result in additional privacy leakage. To ensure differential privacy and no additional privacy leakage, specify bounds for each dimension.\n",
      "  warnings.warn(\"Bounds have not been specified and will be calculated on the data provided. This will \"\n"
     ]
    },
    {
     "name": "stdout",
     "output_type": "stream",
     "text": [
      "   Epsilon  Accuracy  Precision    Recall\n",
      "0      0.5  0.826588   0.826901  0.826588\n",
      "1      1.0  0.840128   0.840322  0.840128\n",
      "2      2.0  0.836185   0.836315  0.836185\n",
      "3      4.0  0.841021   0.841156  0.841021\n"
     ]
    }
   ],
   "source": [
    "import numpy as np\n",
    "\n",
    "# Define epsilon values to test\n",
    "epsilons = [0.5, 1, 2, 4]\n",
    "\n",
    "# Initialize lists to store results\n",
    "accuracy_list = []\n",
    "precision_list = []\n",
    "recall_list = []\n",
    "\n",
    "for epsilon in epsilons:\n",
    "    nb_model_dp = GaussianNB(epsilon=epsilon)\n",
    "    nb_model_dp.fit(X_train, y_train)\n",
    "    y_pred_dp = nb_model_dp.predict(X_test)\n",
    "    \n",
    "    accuracy = accuracy_score(y_test, y_pred_dp)\n",
    "    report = classification_report(y_test, y_pred_dp, output_dict=True)\n",
    "    \n",
    "    accuracy_list.append(accuracy)\n",
    "    precision_list.append(report['weighted avg']['precision'])\n",
    "    recall_list.append(report['weighted avg']['recall'])\n",
    "\n",
    "# Create a DataFrame to display the results\n",
    "results_df = pd.DataFrame({\n",
    "    'Epsilon': epsilons,\n",
    "    'Accuracy': accuracy_list,\n",
    "    'Precision': precision_list,\n",
    "    'Recall': recall_list\n",
    "})\n",
    "\n",
    "print(results_df)\n"
   ]
  }
 ],
 "metadata": {
  "kernelspec": {
   "display_name": "Python 3",
   "language": "python",
   "name": "python3"
  },
  "language_info": {
   "codemirror_mode": {
    "name": "ipython",
    "version": 3
   },
   "file_extension": ".py",
   "mimetype": "text/x-python",
   "name": "python",
   "nbconvert_exporter": "python",
   "pygments_lexer": "ipython3",
   "version": "3.10.5"
  }
 },
 "nbformat": 4,
 "nbformat_minor": 2
}
