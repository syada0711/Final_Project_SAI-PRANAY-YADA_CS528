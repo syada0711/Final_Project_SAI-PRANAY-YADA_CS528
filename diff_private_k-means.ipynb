{
 "cells": [
  {
   "cell_type": "code",
   "execution_count": 2,
   "metadata": {},
   "outputs": [
    {
     "name": "stderr",
     "output_type": "stream",
     "text": [
      "C:\\Users\\yadap\\AppData\\Local\\Temp\\ipykernel_21952\\164688421.py:17: SettingWithCopyWarning: \n",
      "A value is trying to be set on a copy of a slice from a DataFrame.\n",
      "Try using .loc[row_indexer,col_indexer] = value instead\n",
      "\n",
      "See the caveats in the documentation: https://pandas.pydata.org/pandas-docs/stable/user_guide/indexing.html#returning-a-view-versus-a-copy\n",
      "  X[column] = le.fit_transform(X[column])\n",
      "c:\\Users\\yadap\\AppData\\Local\\Programs\\Python\\Python310\\lib\\site-packages\\diffprivlib\\models\\k_means.py:138: PrivacyLeakWarning: Bounds have not been specified and will be calculated on the data provided.  This will result in additional privacy leakage. To ensure differential privacy and no additional privacy leakage, specify `bounds` for each dimension.\n",
      "  warnings.warn(\"Bounds have not been specified and will be calculated on the data provided.  This will \"\n"
     ]
    },
    {
     "name": "stdout",
     "output_type": "stream",
     "text": [
      "Cluster Centers:\n",
      "[[3.28113020e+04 7.58753510e+06 4.96026661e+01 9.59413532e+00\n",
      "  9.08273385e-01 1.91263899e+00 2.96874089e-01 2.51362980e+01\n",
      "  1.36394149e+01 6.24321339e+00 1.19931772e+01]\n",
      " [3.32270943e+04 2.58431747e+06 5.01991949e+01 9.92972186e+00\n",
      "  9.04556154e-01 1.90558814e+00 3.04446769e-01 2.52563710e+01\n",
      "  1.37728661e+01 6.30332550e+00 1.20230192e+01]]\n",
      "Cluster Sizes:\n",
      "{0: 33096, 1: 34114}\n"
     ]
    }
   ],
   "source": [
    "import pandas as pd\n",
    "from diffprivlib.models import KMeans\n",
    "import matplotlib.pyplot as plt\n",
    "import numpy as np\n",
    "\n",
    "# Load the dataset\n",
    "df = pd.read_csv(\"C:/Users/yadap/Desktop/DPS/Project/dataset.csv\")\n",
    "\n",
    "# Define the features\n",
    "X = df[[\"Id\", \"Income\",'Age','Experience','Married/Single', 'House_Ownership', 'Car_Ownership', 'Profession', 'State', 'Current_Job_Years', 'Current_House_Years']]\n",
    "\n",
    "from sklearn.preprocessing import LabelEncoder\n",
    "\n",
    "label_encoders = {}\n",
    "for column in ['Married/Single', 'House_Ownership', 'Car_Ownership', 'Profession', 'State']:\n",
    "    le = LabelEncoder()\n",
    "    X[column] = le.fit_transform(X[column])\n",
    "    label_encoders[column] = le\n",
    "\n",
    "# Apply differentially private k-Means\n",
    "k = 2 # Number of clusters\n",
    "epsilon = 1.0  # Privacy budget\n",
    "kmeans = KMeans(n_clusters=k, epsilon=epsilon, random_state=42)\n",
    "kmeans.fit(X)\n",
    "\n",
    "cluster_labels = kmeans.labels_\n",
    "df['Cluster_Labels'] = cluster_labels\n",
    "\n",
    "# Explore cluster centers\n",
    "cluster_centers = kmeans.cluster_centers_\n",
    "\n",
    "# Print cluster centers\n",
    "print(\"Cluster Centers:\")\n",
    "print(cluster_centers)\n",
    "\n",
    "unique, counts = np.unique(cluster_labels, return_counts=True)\n",
    "cluster_sizes = dict(zip(unique, counts))\n",
    "\n",
    "# Print cluster sizes\n",
    "print(\"Cluster Sizes:\")\n",
    "print(cluster_sizes)"
   ]
  },
  {
   "cell_type": "code",
   "execution_count": 3,
   "metadata": {},
   "outputs": [
    {
     "name": "stdout",
     "output_type": "stream",
     "text": [
      "Silhouette Score: 0.6297490249214073\n"
     ]
    }
   ],
   "source": [
    "from sklearn.metrics import silhouette_score\n",
    "\n",
    "# Compute silhouette score\n",
    "silhouette_avg = silhouette_score(X, cluster_labels)\n",
    "print(\"Silhouette Score:\", silhouette_avg)\n"
   ]
  },
  {
   "cell_type": "code",
   "execution_count": 4,
   "metadata": {},
   "outputs": [
    {
     "name": "stderr",
     "output_type": "stream",
     "text": [
      "c:\\Users\\yadap\\AppData\\Local\\Programs\\Python\\Python310\\lib\\site-packages\\diffprivlib\\models\\k_means.py:138: PrivacyLeakWarning: Bounds have not been specified and will be calculated on the data provided.  This will result in additional privacy leakage. To ensure differential privacy and no additional privacy leakage, specify `bounds` for each dimension.\n",
      "  warnings.warn(\"Bounds have not been specified and will be calculated on the data provided.  This will \"\n"
     ]
    },
    {
     "name": "stdout",
     "output_type": "stream",
     "text": [
      "Silhouette Score for epsilon=0.5: 0.6289833579406388\n"
     ]
    },
    {
     "name": "stderr",
     "output_type": "stream",
     "text": [
      "c:\\Users\\yadap\\AppData\\Local\\Programs\\Python\\Python310\\lib\\site-packages\\diffprivlib\\models\\k_means.py:138: PrivacyLeakWarning: Bounds have not been specified and will be calculated on the data provided.  This will result in additional privacy leakage. To ensure differential privacy and no additional privacy leakage, specify `bounds` for each dimension.\n",
      "  warnings.warn(\"Bounds have not been specified and will be calculated on the data provided.  This will \"\n"
     ]
    },
    {
     "name": "stdout",
     "output_type": "stream",
     "text": [
      "Silhouette Score for epsilon=1: 0.6297490249214073\n"
     ]
    },
    {
     "name": "stderr",
     "output_type": "stream",
     "text": [
      "c:\\Users\\yadap\\AppData\\Local\\Programs\\Python\\Python310\\lib\\site-packages\\diffprivlib\\models\\k_means.py:138: PrivacyLeakWarning: Bounds have not been specified and will be calculated on the data provided.  This will result in additional privacy leakage. To ensure differential privacy and no additional privacy leakage, specify `bounds` for each dimension.\n",
      "  warnings.warn(\"Bounds have not been specified and will be calculated on the data provided.  This will \"\n"
     ]
    },
    {
     "name": "stdout",
     "output_type": "stream",
     "text": [
      "Silhouette Score for epsilon=2: 0.6299585575757605\n"
     ]
    },
    {
     "name": "stderr",
     "output_type": "stream",
     "text": [
      "c:\\Users\\yadap\\AppData\\Local\\Programs\\Python\\Python310\\lib\\site-packages\\diffprivlib\\models\\k_means.py:138: PrivacyLeakWarning: Bounds have not been specified and will be calculated on the data provided.  This will result in additional privacy leakage. To ensure differential privacy and no additional privacy leakage, specify `bounds` for each dimension.\n",
      "  warnings.warn(\"Bounds have not been specified and will be calculated on the data provided.  This will \"\n"
     ]
    },
    {
     "name": "stdout",
     "output_type": "stream",
     "text": [
      "Silhouette Score for epsilon=4: 0.6299964874071639\n",
      "\n",
      "Silhouette Scores for different values of epsilon:\n",
      "   Epsilon  Silhouette Score\n",
      "0      0.5          0.628983\n",
      "1      1.0          0.629749\n",
      "2      2.0          0.629959\n",
      "3      4.0          0.629996\n"
     ]
    }
   ],
   "source": [
    "epsilons = [0.5, 1, 2, 4]\n",
    "silhouette_scores = []\n",
    "\n",
    "for epsilon in epsilons:\n",
    "    # Apply differentially private k-Means\n",
    "    k = 2  # Number of clusters\n",
    "    dp_kmeans = KMeans(n_clusters=k, epsilon=epsilon, random_state=42)\n",
    "    dp_kmeans.fit(X)\n",
    "    \n",
    "    # Get cluster labels\n",
    "    cluster_labels = dp_kmeans.labels_\n",
    "    \n",
    "    # Calculate silhouette score\n",
    "    score = silhouette_score(X, cluster_labels)\n",
    "    silhouette_scores.append(score)\n",
    "    print(f\"Silhouette Score for epsilon={epsilon}: {score}\")\n",
    "\n",
    "# Tabulate silhouette scores\n",
    "results = pd.DataFrame({'Epsilon': epsilons, 'Silhouette Score': silhouette_scores})\n",
    "print(\"\\nSilhouette Scores for different values of epsilon:\")\n",
    "print(results)"
   ]
  }
 ],
 "metadata": {
  "kernelspec": {
   "display_name": "Python 3",
   "language": "python",
   "name": "python3"
  },
  "language_info": {
   "codemirror_mode": {
    "name": "ipython",
    "version": 3
   },
   "file_extension": ".py",
   "mimetype": "text/x-python",
   "name": "python",
   "nbconvert_exporter": "python",
   "pygments_lexer": "ipython3",
   "version": "3.10.5"
  }
 },
 "nbformat": 4,
 "nbformat_minor": 2
}
